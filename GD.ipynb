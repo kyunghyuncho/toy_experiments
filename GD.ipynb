{
 "cells": [
  {
   "cell_type": "code",
   "execution_count": 1,
   "metadata": {},
   "outputs": [],
   "source": [
    "%matplotlib widget"
   ]
  },
  {
   "cell_type": "code",
   "execution_count": 2,
   "metadata": {},
   "outputs": [],
   "source": [
    "import numpy"
   ]
  },
  {
   "cell_type": "code",
   "execution_count": 3,
   "metadata": {},
   "outputs": [],
   "source": [
    "import torch\n",
    "from torch import nn\n",
    "from torch import optim\n",
    "from torch.utils.data import DataLoader, TensorDataset"
   ]
  },
  {
   "cell_type": "code",
   "execution_count": 4,
   "metadata": {},
   "outputs": [],
   "source": [
    "from matplotlib import pyplot as plot"
   ]
  },
  {
   "cell_type": "code",
   "execution_count": 5,
   "metadata": {},
   "outputs": [],
   "source": [
    "xs = torch.tensor([[0,0], [1,1], [1,-1], [-1,1], [-1,-1]], dtype=torch.float32)\n",
    "ys = torch.tensor([1, 0, 0, 0, 0], dtype=torch.float32)\n",
    "trainset = TensorDataset(xs, ys)\n",
    "trainloader = DataLoader(trainset, batch_size=1, shuffle=True)"
   ]
  },
  {
   "cell_type": "code",
   "execution_count": 6,
   "metadata": {},
   "outputs": [],
   "source": [
    "model = nn.Sequential(nn.Linear(2,16), nn.Tanh(), \n",
    "#                       nn.Linear(16,4), nn.Tanh(), \n",
    "                      nn.Linear(16,1), nn.Sigmoid())"
   ]
  },
  {
   "cell_type": "code",
   "execution_count": 7,
   "metadata": {},
   "outputs": [],
   "source": [
    "optimizer = optim.SGD(model.parameters(), 1e-2)"
   ]
  },
  {
   "cell_type": "code",
   "execution_count": 8,
   "metadata": {},
   "outputs": [],
   "source": [
    "criterion = nn.BCELoss()"
   ]
  },
  {
   "cell_type": "code",
   "execution_count": 9,
   "metadata": {},
   "outputs": [
    {
     "name": "stdout",
     "output_type": "stream",
     "text": [
      "100 0.27219024300575256\n",
      "200 0.24490436911582947\n",
      "300 1.5943224430084229\n",
      "400 0.266461580991745\n",
      "500 0.23829412460327148\n",
      "600 0.21868589520454407\n",
      "700 0.2131621241569519\n",
      "800 0.20684270560741425\n",
      "900 1.2671160697937012\n",
      "1000 1.1172866821289062\n",
      "1100 0.1814645677804947\n",
      "1200 0.7195162773132324\n",
      "1300 0.15580964088439941\n",
      "1400 0.08148647099733353\n",
      "1500 0.06834040582180023\n",
      "1600 0.08052588254213333\n",
      "1700 0.19962352514266968\n",
      "1800 0.054046813398599625\n",
      "1900 0.03402521461248398\n",
      "2000 0.04719776660203934\n",
      "2100 0.024888722226023674\n",
      "2200 0.02978925034403801\n",
      "2300 0.02646860107779503\n",
      "2400 0.07149677723646164\n",
      "2500 0.06465131789445877\n",
      "2600 0.05887280032038689\n",
      "2700 0.01787394843995571\n",
      "2800 0.013776770792901516\n",
      "2900 0.04600138962268829\n",
      "3000 0.012025550939142704\n",
      "3100 0.01654055342078209\n",
      "3200 0.010640767402946949\n",
      "3300 0.00985678005963564\n",
      "3400 0.013742627575993538\n",
      "3500 0.009043093770742416\n",
      "3600 0.02971501089632511\n",
      "3700 0.008099966682493687\n",
      "3800 0.007749166339635849\n",
      "3900 0.025620926171541214\n",
      "4000 0.010126670822501183\n",
      "4100 0.006903281435370445\n",
      "4200 0.00659519899636507\n",
      "4300 0.0063560111448168755\n",
      "4400 0.006156462244689465\n",
      "4500 0.006518582813441753\n",
      "4600 0.005737939849495888\n",
      "4700 0.005545107182115316\n",
      "4800 0.005372506100684404\n",
      "4900 0.005202211439609528\n",
      "5000 0.00505638774484396\n"
     ]
    }
   ],
   "source": [
    "epochs = 5000\n",
    "disp_interval = 100\n",
    "\n",
    "for epoch in range(epochs):\n",
    "    for x, y in trainloader:\n",
    "        optimizer.zero_grad()\n",
    "        loss = criterion(model(x).view(-1), y)\n",
    "        loss.backward()\n",
    "        optimizer.step()\n",
    "    if (epoch+1) % disp_interval == 0:\n",
    "        print(F'{epoch+1} {loss.item()}')\n",
    "    if (epoch+1) % 100 == 0:\n",
    "        torch.save(model.state_dict(), F'./ckpt/epoch_{epoch+1}.ckpt')"
   ]
  },
  {
   "cell_type": "code",
   "execution_count": 10,
   "metadata": {},
   "outputs": [],
   "source": [
    "X1p = numpy.arange(-2,2,0.1, dtype='float32')\n",
    "X2p = numpy.arange(-2,2,0.1, dtype='float32')\n",
    "X1, X2 = numpy.meshgrid(X1p, X2p)\n",
    "\n",
    "out = model(torch.tensor(numpy.vstack([X1.flatten(), X2.flatten()]).T))"
   ]
  },
  {
   "cell_type": "code",
   "execution_count": 11,
   "metadata": {},
   "outputs": [
    {
     "data": {
      "application/vnd.jupyter.widget-view+json": {
       "model_id": "a42cdfce14474d919ec528a3415b9fa0",
       "version_major": 2,
       "version_minor": 0
      },
      "text/plain": [
       "Canvas(toolbar=Toolbar(toolitems=[('Home', 'Reset original view', 'home', 'home'), ('Back', 'Back to previous …"
      ]
     },
     "metadata": {},
     "output_type": "display_data"
    }
   ],
   "source": [
    "plot.figure()\n",
    "\n",
    "plot.contour(X1, X2, out.data.numpy().reshape(X1.shape))\n",
    "\n",
    "for x, y in zip(xs, ys):\n",
    "    if y == 0:\n",
    "        plot.plot(x[0], x[1], 'ro')\n",
    "    else:\n",
    "        plot.plot(x[0], x[1], 'bx')\n",
    "\n",
    "    plot.title(F'loss {loss}')\n",
    "\n",
    "plot.show()"
   ]
  },
  {
   "cell_type": "code",
   "execution_count": null,
   "metadata": {},
   "outputs": [],
   "source": []
  }
 ],
 "metadata": {
  "kernelspec": {
   "display_name": "Python 3",
   "language": "python",
   "name": "python3"
  },
  "language_info": {
   "codemirror_mode": {
    "name": "ipython",
    "version": 3
   },
   "file_extension": ".py",
   "mimetype": "text/x-python",
   "name": "python",
   "nbconvert_exporter": "python",
   "pygments_lexer": "ipython3",
   "version": "3.7.6"
  }
 },
 "nbformat": 4,
 "nbformat_minor": 4
}
